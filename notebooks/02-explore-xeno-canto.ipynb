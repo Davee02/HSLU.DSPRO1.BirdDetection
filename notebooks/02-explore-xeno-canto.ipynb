{
 "cells": [
  {
   "cell_type": "code",
   "execution_count": 1,
   "metadata": {
    "tags": []
   },
   "outputs": [],
   "source": [
    "import pandas as pd\n",
    "import matplotlib.pyplot as plt\n",
    "from ydata_profiling import ProfileReport"
   ]
  },
  {
   "cell_type": "code",
   "execution_count": 2,
   "metadata": {
    "tags": []
   },
   "outputs": [
    {
     "data": {
      "text/html": [
       "<div>\n",
       "<style scoped>\n",
       "    .dataframe tbody tr th:only-of-type {\n",
       "        vertical-align: middle;\n",
       "    }\n",
       "\n",
       "    .dataframe tbody tr th {\n",
       "        vertical-align: top;\n",
       "    }\n",
       "\n",
       "    .dataframe thead th {\n",
       "        text-align: right;\n",
       "    }\n",
       "</style>\n",
       "<table border=\"1\" class=\"dataframe\">\n",
       "  <thead>\n",
       "    <tr style=\"text-align: right;\">\n",
       "      <th></th>\n",
       "      <th>id</th>\n",
       "      <th>gen</th>\n",
       "      <th>sp</th>\n",
       "      <th>ssp</th>\n",
       "      <th>group</th>\n",
       "      <th>en</th>\n",
       "      <th>rec</th>\n",
       "      <th>cnt</th>\n",
       "      <th>loc</th>\n",
       "      <th>lat</th>\n",
       "      <th>...</th>\n",
       "      <th>rmk</th>\n",
       "      <th>bird-seen</th>\n",
       "      <th>animal-seen</th>\n",
       "      <th>playback-used</th>\n",
       "      <th>temperature</th>\n",
       "      <th>regnr</th>\n",
       "      <th>auto</th>\n",
       "      <th>dvc</th>\n",
       "      <th>mic</th>\n",
       "      <th>smp</th>\n",
       "    </tr>\n",
       "  </thead>\n",
       "  <tbody>\n",
       "    <tr>\n",
       "      <th>0</th>\n",
       "      <td>347210</td>\n",
       "      <td>Prinia</td>\n",
       "      <td>lepida</td>\n",
       "      <td></td>\n",
       "      <td>birds</td>\n",
       "      <td>Delicate Prinia</td>\n",
       "      <td>Tero Linjama</td>\n",
       "      <td>Turkey</td>\n",
       "      <td>Göksü delta</td>\n",
       "      <td>36.2944</td>\n",
       "      <td>...</td>\n",
       "      <td></td>\n",
       "      <td>yes</td>\n",
       "      <td>yes</td>\n",
       "      <td>no</td>\n",
       "      <td></td>\n",
       "      <td></td>\n",
       "      <td>no</td>\n",
       "      <td></td>\n",
       "      <td></td>\n",
       "      <td>48000</td>\n",
       "    </tr>\n",
       "    <tr>\n",
       "      <th>1</th>\n",
       "      <td>773151</td>\n",
       "      <td>Prinia</td>\n",
       "      <td>lepida</td>\n",
       "      <td>lepida</td>\n",
       "      <td>birds</td>\n",
       "      <td>Delicate Prinia</td>\n",
       "      <td>Tora BENZEYEN</td>\n",
       "      <td>Turkey</td>\n",
       "      <td>Antalya, Konyaaltı, Antalya</td>\n",
       "      <td>36.859</td>\n",
       "      <td>...</td>\n",
       "      <td>On a small marsh path.</td>\n",
       "      <td>yes</td>\n",
       "      <td>yes</td>\n",
       "      <td>no</td>\n",
       "      <td></td>\n",
       "      <td></td>\n",
       "      <td>no</td>\n",
       "      <td>iPhone SE</td>\n",
       "      <td></td>\n",
       "      <td>48000</td>\n",
       "    </tr>\n",
       "    <tr>\n",
       "      <th>2</th>\n",
       "      <td>615864</td>\n",
       "      <td>Prinia</td>\n",
       "      <td>lepida</td>\n",
       "      <td></td>\n",
       "      <td>birds</td>\n",
       "      <td>Delicate Prinia</td>\n",
       "      <td>Cedric Mroczko</td>\n",
       "      <td>Turkey</td>\n",
       "      <td>Yumurtalık Lagünleri Milli Parkı (Halep çamı o...</td>\n",
       "      <td>36.741</td>\n",
       "      <td>...</td>\n",
       "      <td>High-pass fitered (1000Hz, 6dB). d100 + clippy...</td>\n",
       "      <td>no</td>\n",
       "      <td>no</td>\n",
       "      <td>no</td>\n",
       "      <td></td>\n",
       "      <td></td>\n",
       "      <td>no</td>\n",
       "      <td></td>\n",
       "      <td></td>\n",
       "      <td>44100</td>\n",
       "    </tr>\n",
       "    <tr>\n",
       "      <th>3</th>\n",
       "      <td>595548</td>\n",
       "      <td>Bubo</td>\n",
       "      <td>milesi</td>\n",
       "      <td></td>\n",
       "      <td>birds</td>\n",
       "      <td>Arabian Eagle-Owl</td>\n",
       "      <td>Micha Luhn</td>\n",
       "      <td>Oman</td>\n",
       "      <td>Wadi Darbat, Dhofar</td>\n",
       "      <td>17.1024</td>\n",
       "      <td>...</td>\n",
       "      <td>Same individuum as in **XC595546**\\r\\nA distan...</td>\n",
       "      <td>no</td>\n",
       "      <td>no</td>\n",
       "      <td>no</td>\n",
       "      <td></td>\n",
       "      <td></td>\n",
       "      <td>no</td>\n",
       "      <td></td>\n",
       "      <td></td>\n",
       "      <td>48000</td>\n",
       "    </tr>\n",
       "    <tr>\n",
       "      <th>4</th>\n",
       "      <td>595546</td>\n",
       "      <td>Bubo</td>\n",
       "      <td>milesi</td>\n",
       "      <td></td>\n",
       "      <td>birds</td>\n",
       "      <td>Arabian Eagle-Owl</td>\n",
       "      <td>Micha Luhn</td>\n",
       "      <td>Oman</td>\n",
       "      <td>Wadi Darbat, Dhofar</td>\n",
       "      <td>17.1024</td>\n",
       "      <td>...</td>\n",
       "      <td>A distant call in the rocks.\\r\\norig: 29 s  48...</td>\n",
       "      <td>no</td>\n",
       "      <td>no</td>\n",
       "      <td>no</td>\n",
       "      <td></td>\n",
       "      <td></td>\n",
       "      <td>no</td>\n",
       "      <td></td>\n",
       "      <td></td>\n",
       "      <td>48000</td>\n",
       "    </tr>\n",
       "  </tbody>\n",
       "</table>\n",
       "<p>5 rows × 42 columns</p>\n",
       "</div>"
      ],
      "text/plain": [
       "       id     gen      sp     ssp  group                 en             rec  \\\n",
       "0  347210  Prinia  lepida          birds    Delicate Prinia    Tero Linjama   \n",
       "1  773151  Prinia  lepida  lepida  birds    Delicate Prinia   Tora BENZEYEN   \n",
       "2  615864  Prinia  lepida          birds    Delicate Prinia  Cedric Mroczko   \n",
       "3  595548    Bubo  milesi          birds  Arabian Eagle-Owl      Micha Luhn   \n",
       "4  595546    Bubo  milesi          birds  Arabian Eagle-Owl      Micha Luhn   \n",
       "\n",
       "      cnt                                                loc      lat  ...  \\\n",
       "0  Turkey                                        Göksü delta  36.2944  ...   \n",
       "1  Turkey                        Antalya, Konyaaltı, Antalya   36.859  ...   \n",
       "2  Turkey  Yumurtalık Lagünleri Milli Parkı (Halep çamı o...   36.741  ...   \n",
       "3    Oman                                Wadi Darbat, Dhofar  17.1024  ...   \n",
       "4    Oman                                Wadi Darbat, Dhofar  17.1024  ...   \n",
       "\n",
       "                                                 rmk bird-seen animal-seen  \\\n",
       "0                                                          yes         yes   \n",
       "1                             On a small marsh path.       yes         yes   \n",
       "2  High-pass fitered (1000Hz, 6dB). d100 + clippy...        no          no   \n",
       "3  Same individuum as in **XC595546**\\r\\nA distan...        no          no   \n",
       "4  A distant call in the rocks.\\r\\norig: 29 s  48...        no          no   \n",
       "\n",
       "  playback-used temperature regnr auto        dvc mic    smp  \n",
       "0            no                     no                 48000  \n",
       "1            no                     no  iPhone SE      48000  \n",
       "2            no                     no                 44100  \n",
       "3            no                     no                 48000  \n",
       "4            no                     no                 48000  \n",
       "\n",
       "[5 rows x 42 columns]"
      ]
     },
     "execution_count": 2,
     "metadata": {},
     "output_type": "execute_result"
    }
   ],
   "source": [
    "file_location = \"../data/raw/xeno-canto.parquet\"\n",
    "df = pd.read_parquet(file_location)\n",
    "df.head()"
   ]
  },
  {
   "cell_type": "markdown",
   "metadata": {},
   "source": [
    "## Species"
   ]
  },
  {
   "cell_type": "markdown",
   "metadata": {},
   "source": [
    "First check how many records have an unknown species"
   ]
  },
  {
   "cell_type": "code",
   "execution_count": 3,
   "metadata": {
    "tags": []
   },
   "outputs": [
    {
     "data": {
      "text/plain": [
       "en\n",
       "Identity unknown     3853\n",
       "Red Crossbill        1466\n",
       "Great Tit            1385\n",
       "Common Chiffchaff    1380\n",
       "Common Blackbird     1188\n",
       "                     ... \n",
       "Northern Parula         1\n",
       "Tennessee Warbler       1\n",
       "Wilson's Warbler        1\n",
       "Myrtle Warbler          1\n",
       "Upland Goose            1\n",
       "Name: count, Length: 659, dtype: int64"
      ]
     },
     "execution_count": 3,
     "metadata": {},
     "output_type": "execute_result"
    }
   ],
   "source": [
    "df[\"en\"].value_counts()"
   ]
  },
  {
   "cell_type": "markdown",
   "metadata": {},
   "source": [
    "Then check how many species there are that have more than x recordings"
   ]
  },
  {
   "cell_type": "code",
   "execution_count": 4,
   "metadata": {
    "tags": []
   },
   "outputs": [],
   "source": [
    "species_count_values = {}\n",
    "for species_count in range(1, df[\"en\"].nunique()):\n",
    "    species = df[\"en\"].value_counts()\n",
    "    species = species[species > species_count]\n",
    "    species_count_values[species_count] = species.count()"
   ]
  },
  {
   "cell_type": "code",
   "execution_count": 5,
   "metadata": {
    "tags": []
   },
   "outputs": [
    {
     "data": {
      "text/plain": [
       "[<matplotlib.lines.Line2D at 0x7fb4c3692600>]"
      ]
     },
     "execution_count": 5,
     "metadata": {},
     "output_type": "execute_result"
    },
    {
     "data": {
      "image/png": "[encoded data removed]",
      "text/plain": [
       "<Figure size 700x400 with 1 Axes>"
      ]
     },
     "metadata": {},
     "output_type": "display_data"
    }
   ],
   "source": [
    "fig, ax  = plt.subplots(1, 1, figsize=(7, 4))\n",
    "\n",
    "ax.set_title(\"Number of species with more than x recordings\")\n",
    "ax.set_xlabel(\"Number of recordings\")\n",
    "ax.set_ylabel(\"Number of species\")\n",
    "ax.plot(species_count_values.keys(), species_count_values.values())"
   ]
  },
  {
   "cell_type": "code",
   "execution_count": 6,
   "metadata": {
    "tags": []
   },
   "outputs": [
    {
     "data": {
      "application/vnd.jupyter.widget-view+json": {
       "model_id": "e1f6144e59284aa28b7c58e3e3ee0dec",
       "version_major": 2,
       "version_minor": 0
      },
      "text/plain": [
       "Summarize dataset:   0%|          | 0/5 [00:00<?, ?it/s]"
      ]
     },
     "metadata": {},
     "output_type": "display_data"
    },
    {
     "data": {
      "application/vnd.jupyter.widget-view+json": {
       "model_id": "d25738f319f2458da59b3af62813c667",
       "version_major": 2,
       "version_minor": 0
      },
      "text/plain": [
       "Generate report structure:   0%|          | 0/1 [00:00<?, ?it/s]"
      ]
     },
     "metadata": {},
     "output_type": "display_data"
    },
    {
     "name": "stderr",
     "output_type": "stream",
     "text": [
      "/home/david/miniconda3/envs/dspro1/lib/python3.12/site-packages/ydata_profiling/visualisation/plot.py:429: UserWarning: No artists with labels found to put in legend.  Note that artists whose label start with an underscore are ignored when legend() is called with no argument.\n",
      "  legend = ax.legend(\n"
     ]
    },
    {
     "data": {
      "application/vnd.jupyter.widget-view+json": {
       "model_id": "4ae9498fb57343d89f5275ab4e71953d",
       "version_major": 2,
       "version_minor": 0
      },
      "text/plain": [
       "Render HTML:   0%|          | 0/1 [00:00<?, ?it/s]"
      ]
     },
     "metadata": {},
     "output_type": "display_data"
    },
    {
     "data": {
      "application/vnd.jupyter.widget-view+json": {
       "model_id": "a9e07ed202ec4938b6cab4d60c367815",
       "version_major": 2,
       "version_minor": 0
      },
      "text/plain": [
       "Export report to file:   0%|          | 0/1 [00:00<?, ?it/s]"
      ]
     },
     "metadata": {},
     "output_type": "display_data"
    }
   ],
   "source": [
    "profile = ProfileReport(df, title=\"Profiling Report\")\n",
    "profile.to_file(\"data_report.html\")"
   ]
  },
  {
   "cell_type": "code",
   "execution_count": 7,
   "metadata": {
    "tags": []
   },
   "outputs": [],
   "source": [
    "df = df[df[\"en\"] != \"Identity unknown\"]"
   ]
  },
  {
   "cell_type": "code",
   "execution_count": 8,
   "metadata": {
    "tags": []
   },
   "outputs": [
    {
     "data": {
      "image/png": "[encoded data removed]",
      "text/plain": [
       "<Figure size 640x480 with 1 Axes>"
      ]
     },
     "metadata": {},
     "output_type": "display_data"
    }
   ],
   "source": [
    "xs = df[\"en\"].value_counts()\n",
    "bins = 50\n",
    "plt.hist(xs, range=(20,900), bins=bins)\n",
    "plt.title(\"Number of Entries per Species\")\n",
    "plt.xlabel(\"Entries\")\n",
    "plt.ylabel(\"Species\")\n",
    "plt.show()"
   ]
  },
  {
   "cell_type": "code",
   "execution_count": 9,
   "metadata": {},
   "outputs": [
    {
     "data": {
      "image/png": "[encoded data removed]",
      "text/plain": [
       "<Figure size 700x400 with 1 Axes>"
      ]
     },
     "metadata": {},
     "output_type": "display_data"
    }
   ],
   "source": [
    "# plot histogram of duration of recordings\n",
    "recording_length_df = df[\"length\"].str.split(\":\").str[1].astype(int)\n",
    "\n",
    "fig, ax  = plt.subplots(1, 1, figsize=(7, 4))\n",
    "ax.set_title(\"Duration of recordings\")\n",
    "ax.set_xlabel(\"Duration in seconds\")\n",
    "ax.set_ylabel(\"Number of recordings\")\n",
    "ax.hist(recording_length_df, bins=10, color=\"skyblue\", edgecolor=\"black\");"
   ]
  }
 ],
 "metadata": {
  "kernelspec": {
   "display_name": "dspro1",
   "language": "python",
   "name": "python3"
  },
  "language_info": {
   "codemirror_mode": {
    "name": "ipython",
    "version": 3
   },
   "file_extension": ".py",
   "mimetype": "text/x-python",
   "name": "python",
   "nbconvert_exporter": "python",
   "pygments_lexer": "ipython3",
   "version": "3.12.7"
  }
 },
 "nbformat": 4,
 "nbformat_minor": 4
}
