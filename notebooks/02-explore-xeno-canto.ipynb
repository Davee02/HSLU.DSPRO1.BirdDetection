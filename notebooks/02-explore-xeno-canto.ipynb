{
 "cells": [
  {
   "cell_type": "code",
   "execution_count": 13,
   "metadata": {},
   "outputs": [],
   "source": [
    "import pandas as pd\n",
    "import matplotlib.pyplot as plt"
   ]
  },
  {
   "cell_type": "code",
   "execution_count": 2,
   "metadata": {},
   "outputs": [
    {
     "data": {
      "text/html": [
       "<div>\n",
       "<style scoped>\n",
       "    .dataframe tbody tr th:only-of-type {\n",
       "        vertical-align: middle;\n",
       "    }\n",
       "\n",
       "    .dataframe tbody tr th {\n",
       "        vertical-align: top;\n",
       "    }\n",
       "\n",
       "    .dataframe thead th {\n",
       "        text-align: right;\n",
       "    }\n",
       "</style>\n",
       "<table border=\"1\" class=\"dataframe\">\n",
       "  <thead>\n",
       "    <tr style=\"text-align: right;\">\n",
       "      <th></th>\n",
       "      <th>id</th>\n",
       "      <th>gen</th>\n",
       "      <th>sp</th>\n",
       "      <th>ssp</th>\n",
       "      <th>group</th>\n",
       "      <th>en</th>\n",
       "      <th>rec</th>\n",
       "      <th>cnt</th>\n",
       "      <th>loc</th>\n",
       "      <th>lat</th>\n",
       "      <th>...</th>\n",
       "      <th>rmk</th>\n",
       "      <th>bird-seen</th>\n",
       "      <th>animal-seen</th>\n",
       "      <th>playback-used</th>\n",
       "      <th>temperature</th>\n",
       "      <th>regnr</th>\n",
       "      <th>auto</th>\n",
       "      <th>dvc</th>\n",
       "      <th>mic</th>\n",
       "      <th>smp</th>\n",
       "    </tr>\n",
       "  </thead>\n",
       "  <tbody>\n",
       "    <tr>\n",
       "      <th>0</th>\n",
       "      <td>773151</td>\n",
       "      <td>Prinia</td>\n",
       "      <td>lepida</td>\n",
       "      <td>lepida</td>\n",
       "      <td>birds</td>\n",
       "      <td>Delicate Prinia</td>\n",
       "      <td>Tora BENZEYEN</td>\n",
       "      <td>Turkey</td>\n",
       "      <td>Antalya, Konyaaltı, Antalya</td>\n",
       "      <td>36.8590</td>\n",
       "      <td>...</td>\n",
       "      <td>On a small marsh path.</td>\n",
       "      <td>yes</td>\n",
       "      <td>yes</td>\n",
       "      <td>no</td>\n",
       "      <td>NaN</td>\n",
       "      <td>NaN</td>\n",
       "      <td>no</td>\n",
       "      <td>iPhone SE</td>\n",
       "      <td>NaN</td>\n",
       "      <td>48000</td>\n",
       "    </tr>\n",
       "    <tr>\n",
       "      <th>1</th>\n",
       "      <td>620277</td>\n",
       "      <td>Prinia</td>\n",
       "      <td>lepida</td>\n",
       "      <td>NaN</td>\n",
       "      <td>birds</td>\n",
       "      <td>Delicate Prinia</td>\n",
       "      <td>Cedric Mroczko</td>\n",
       "      <td>Turkey</td>\n",
       "      <td>Göksu deltası, Silifke, Mersin</td>\n",
       "      <td>36.2935</td>\n",
       "      <td>...</td>\n",
       "      <td>d-100 + em172 clippy</td>\n",
       "      <td>no</td>\n",
       "      <td>no</td>\n",
       "      <td>no</td>\n",
       "      <td>NaN</td>\n",
       "      <td>NaN</td>\n",
       "      <td>no</td>\n",
       "      <td>NaN</td>\n",
       "      <td>NaN</td>\n",
       "      <td>44100</td>\n",
       "    </tr>\n",
       "    <tr>\n",
       "      <th>2</th>\n",
       "      <td>127145</td>\n",
       "      <td>Rhea</td>\n",
       "      <td>americana</td>\n",
       "      <td>NaN</td>\n",
       "      <td>birds</td>\n",
       "      <td>Greater Rhea</td>\n",
       "      <td>Lars Lachmann</td>\n",
       "      <td>Germany</td>\n",
       "      <td>east of Ratzeburger See</td>\n",
       "      <td>53.7688</td>\n",
       "      <td>...</td>\n",
       "      <td>snorting sound given during aggressin between ...</td>\n",
       "      <td>unknown</td>\n",
       "      <td>unknown</td>\n",
       "      <td>unknown</td>\n",
       "      <td>NaN</td>\n",
       "      <td>NaN</td>\n",
       "      <td>no</td>\n",
       "      <td>NaN</td>\n",
       "      <td>NaN</td>\n",
       "      <td>44100</td>\n",
       "    </tr>\n",
       "    <tr>\n",
       "      <th>3</th>\n",
       "      <td>656568</td>\n",
       "      <td>Dendrocygna</td>\n",
       "      <td>viduata</td>\n",
       "      <td>NaN</td>\n",
       "      <td>birds</td>\n",
       "      <td>White-faced Whistling Duck</td>\n",
       "      <td>MERCIER Christophe</td>\n",
       "      <td>France</td>\n",
       "      <td>Panazol, Haute-Vienne, Nouvelle-Aquitaine</td>\n",
       "      <td>45.8271</td>\n",
       "      <td>...</td>\n",
       "      <td>NaN</td>\n",
       "      <td>no</td>\n",
       "      <td>no</td>\n",
       "      <td>no</td>\n",
       "      <td>NaN</td>\n",
       "      <td>NaN</td>\n",
       "      <td>no</td>\n",
       "      <td>NaN</td>\n",
       "      <td>NaN</td>\n",
       "      <td>48000</td>\n",
       "    </tr>\n",
       "    <tr>\n",
       "      <th>4</th>\n",
       "      <td>30126</td>\n",
       "      <td>Dendrocygna</td>\n",
       "      <td>viduata</td>\n",
       "      <td>NaN</td>\n",
       "      <td>birds</td>\n",
       "      <td>White-faced Whistling Duck</td>\n",
       "      <td>Stuart Fisher</td>\n",
       "      <td>United Kingdom</td>\n",
       "      <td>Pensthorpe, Norfolk</td>\n",
       "      <td>52.8270</td>\n",
       "      <td>...</td>\n",
       "      <td>A free-flying feral population</td>\n",
       "      <td>unknown</td>\n",
       "      <td>unknown</td>\n",
       "      <td>unknown</td>\n",
       "      <td>NaN</td>\n",
       "      <td>NaN</td>\n",
       "      <td>no</td>\n",
       "      <td>NaN</td>\n",
       "      <td>NaN</td>\n",
       "      <td>44100</td>\n",
       "    </tr>\n",
       "  </tbody>\n",
       "</table>\n",
       "<p>5 rows × 42 columns</p>\n",
       "</div>"
      ],
      "text/plain": [
       "       id          gen         sp     ssp  group                          en  \\\n",
       "0  773151       Prinia     lepida  lepida  birds             Delicate Prinia   \n",
       "1  620277       Prinia     lepida     NaN  birds             Delicate Prinia   \n",
       "2  127145         Rhea  americana     NaN  birds                Greater Rhea   \n",
       "3  656568  Dendrocygna    viduata     NaN  birds  White-faced Whistling Duck   \n",
       "4   30126  Dendrocygna    viduata     NaN  birds  White-faced Whistling Duck   \n",
       "\n",
       "                  rec             cnt  \\\n",
       "0       Tora BENZEYEN          Turkey   \n",
       "1      Cedric Mroczko          Turkey   \n",
       "2       Lars Lachmann         Germany   \n",
       "3  MERCIER Christophe          France   \n",
       "4       Stuart Fisher  United Kingdom   \n",
       "\n",
       "                                         loc      lat  ...  \\\n",
       "0                Antalya, Konyaaltı, Antalya  36.8590  ...   \n",
       "1             Göksu deltası, Silifke, Mersin  36.2935  ...   \n",
       "2                    east of Ratzeburger See  53.7688  ...   \n",
       "3  Panazol, Haute-Vienne, Nouvelle-Aquitaine  45.8271  ...   \n",
       "4                       Pensthorpe, Norfolk   52.8270  ...   \n",
       "\n",
       "                                                 rmk bird-seen animal-seen  \\\n",
       "0                             On a small marsh path.       yes         yes   \n",
       "1                               d-100 + em172 clippy        no          no   \n",
       "2  snorting sound given during aggressin between ...   unknown     unknown   \n",
       "3                                                NaN        no          no   \n",
       "4                     A free-flying feral population   unknown     unknown   \n",
       "\n",
       "  playback-used temperature regnr auto        dvc  mic    smp  \n",
       "0            no         NaN   NaN   no  iPhone SE  NaN  48000  \n",
       "1            no         NaN   NaN   no        NaN  NaN  44100  \n",
       "2       unknown         NaN   NaN   no        NaN  NaN  44100  \n",
       "3            no         NaN   NaN   no        NaN  NaN  48000  \n",
       "4       unknown         NaN   NaN   no        NaN  NaN  44100  \n",
       "\n",
       "[5 rows x 42 columns]"
      ]
     },
     "execution_count": 2,
     "metadata": {},
     "output_type": "execute_result"
    }
   ],
   "source": [
    "file_location = \"../data/raw/xeno-canto.csv\"\n",
    "df = pd.read_csv(file_location)\n",
    "df.head()"
   ]
  },
  {
   "cell_type": "markdown",
   "metadata": {},
   "source": [
    "## Species"
   ]
  },
  {
   "cell_type": "markdown",
   "metadata": {},
   "source": [
    "First check how many records have an unknown species"
   ]
  },
  {
   "cell_type": "code",
   "execution_count": 16,
   "metadata": {},
   "outputs": [
    {
     "data": {
      "text/plain": [
       "Identity unknown       2519\n",
       "Common Moorhen          754\n",
       "Common Blackbird        663\n",
       "Water Rail              651\n",
       "Hooded Crow             647\n",
       "                       ... \n",
       "Kurdish Wheatear          1\n",
       "Siberian Stonechat        1\n",
       "Black Stork               1\n",
       "African Sacred Ibis       1\n",
       "Little Auk                1\n",
       "Name: en, Length: 591, dtype: int64"
      ]
     },
     "execution_count": 16,
     "metadata": {},
     "output_type": "execute_result"
    }
   ],
   "source": [
    "df[\"en\"].value_counts()"
   ]
  },
  {
   "cell_type": "markdown",
   "metadata": {},
   "source": [
    "Then check how many species there are that have more than x recordings"
   ]
  },
  {
   "cell_type": "code",
   "execution_count": 35,
   "metadata": {},
   "outputs": [],
   "source": [
    "species_count_values = {}\n",
    "for species_count in range(1, df[\"en\"].nunique()):\n",
    "    species = df[\"en\"].value_counts()\n",
    "    species = species[species > species_count]\n",
    "    species_count_values[species_count] = species.count()"
   ]
  },
  {
   "cell_type": "code",
   "execution_count": 36,
   "metadata": {},
   "outputs": [
    {
     "data": {
      "text/plain": [
       "[<matplotlib.lines.Line2D at 0x7fe48ab745b0>]"
      ]
     },
     "execution_count": 36,
     "metadata": {},
     "output_type": "execute_result"
    },
    {
     "data": {
      "image/png": "[encoded data removed]",
      "text/plain": [
       "<Figure size 700x400 with 1 Axes>"
      ]
     },
     "metadata": {},
     "output_type": "display_data"
    }
   ],
   "source": [
    "fig, ax  = plt.subplots(1, 1, figsize=(7, 4))\n",
    "\n",
    "ax.set_title(\"Number of species with more than x recordings\")\n",
    "ax.set_xlabel(\"Number of recordings\")\n",
    "ax.set_ylabel(\"Number of species\")\n",
    "ax.plot(species_count_values.keys(), species_count_values.values())"
   ]
  }
 ],
 "metadata": {
  "kernelspec": {
   "display_name": "Python 3",
   "language": "python",
   "name": "python3"
  },
  "language_info": {
   "codemirror_mode": {
    "name": "ipython",
    "version": 3
   },
   "file_extension": ".py",
   "mimetype": "text/x-python",
   "name": "python",
   "nbconvert_exporter": "python",
   "pygments_lexer": "ipython3",
   "version": "3.10.12"
  }
 },
 "nbformat": 4,
 "nbformat_minor": 2
}
