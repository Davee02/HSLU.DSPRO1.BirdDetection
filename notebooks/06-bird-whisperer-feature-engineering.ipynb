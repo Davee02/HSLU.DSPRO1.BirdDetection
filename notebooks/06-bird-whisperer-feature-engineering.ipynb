{
 "cells": [
  {
   "cell_type": "code",
   "execution_count": 1,
   "metadata": {},
   "outputs": [
    {
     "name": "stderr",
     "output_type": "stream",
     "text": [
      "/home/david/miniconda3/envs/bird-whisperer/lib/python3.8/site-packages/tqdm/auto.py:21: TqdmWarning: IProgress not found. Please update jupyter and ipywidgets. See https://ipywidgets.readthedocs.io/en/stable/user_install.html\n",
      "  from .autonotebook import tqdm as notebook_tqdm\n"
     ]
    }
   ],
   "source": [
    "import os\n",
    "import numpy as np\n",
    "import pandas as pd\n",
    "from tqdm import tqdm\n",
    "import librosa\n",
    "\n",
    "\n",
    "np.random.seed(42)"
   ]
  },
  {
   "cell_type": "code",
   "execution_count": 2,
   "metadata": {},
   "outputs": [],
   "source": [
    "input_file = \"../data/cleaned/80_20_cleaned_train.parquet\"\n",
    "input_audio_dir = \"../data/raw/audio/xeno_canto\"\n",
    "output_spectrogram_dir = '../data/processed/bird-whisperer/spectograms'\n",
    "os.makedirs(output_spectrogram_dir, exist_ok=True)\n",
    "\n",
    "original_df = pd.read_parquet(input_file)"
   ]
  },
  {
   "cell_type": "code",
   "execution_count": 3,
   "metadata": {},
   "outputs": [],
   "source": [
    "SAMPLE_RATE = 16 * 1000 # 16kHz"
   ]
  },
  {
   "cell_type": "code",
   "execution_count": 5,
   "metadata": {},
   "outputs": [
    {
     "name": "stderr",
     "output_type": "stream",
     "text": [
      "  1%|          | 360/66148 [00:00<00:00, 1015433.38it/s]\n"
     ]
    }
   ],
   "source": [
    "target_recordings_per_species = 100\n",
    "species_counts = original_df['en'].value_counts()\n",
    "species_counts_after_aug = {species: 0 for species in species_counts.index}\n",
    "\n",
    "augmentation_factors = {}\n",
    "for species, count in tqdm(species_counts.items(), total=original_df.shape[0]):\n",
    "    needed_augmentations = max(0, target_recordings_per_species - count)\n",
    "    if count > 100:\n",
    "        max_augment_per_sample = 1\n",
    "    elif count > 50:\n",
    "        max_augment_per_sample = 2\n",
    "    elif count > 25:\n",
    "        max_augment_per_sample = 5\n",
    "    else:\n",
    "        max_augment_per_sample = 10\n",
    "\n",
    "    if needed_augmentations > 0:\n",
    "        augmentation_per_sample = max(1, needed_augmentations // count)\n",
    "        augmentation_factors[species] = min(augmentation_per_sample, max_augment_per_sample)\n",
    "    else:\n",
    "        augmentation_factors[species] = 0"
   ]
  },
  {
   "cell_type": "code",
   "execution_count": 17,
   "metadata": {},
   "outputs": [
    {
     "name": "stderr",
     "output_type": "stream",
     "text": [
      "  0%|          | 320/66148 [00:13<47:47, 22.95it/s] Warning: Xing stream size off by more than 1%, fuzzy seeking may be even more fuzzy than by design!\n",
      "  1%|          | 339/66148 [00:14<34:23, 31.89it/s]Note: Illegal Audio-MPEG-Header 0x302f1700 at offset 427279.\n",
      "Note: Trying to resync...\n",
      "Note: Hit end of (available) data during resync.\n",
      "  1%|          | 349/66148 [00:15<48:24, 22.65it/s]Warning: Xing stream size off by more than 1%, fuzzy seeking may be even more fuzzy than by design!\n",
      "  1%|          | 406/66148 [00:17<47:31, 23.06it/s]Note: Illegal Audio-MPEG-Header 0x4c595249 at offset 308571.\n",
      "Note: Trying to resync...\n",
      "Note: Hit end of (available) data during resync.\n",
      "  1%|          | 431/66148 [00:18<47:41, 22.97it/s]Note: Illegal Audio-MPEG-Header 0x41525449 at offset 57804.\n",
      "Note: Trying to resync...\n",
      "Note: Hit end of (available) data during resync.\n",
      "  1%|          | 489/66148 [00:20<38:45, 28.24it/s]Warning: Xing stream size off by more than 1%, fuzzy seeking may be even more fuzzy than by design!\n",
      "  1%|          | 510/66148 [00:21<45:40, 23.95it/s]Note: Illegal Audio-MPEG-Header 0x00000000 at offset 295618.\n",
      "Note: Trying to resync...\n",
      "Note: Hit end of (available) data during resync.\n",
      "  1%|          | 565/66148 [00:23<39:44, 27.50it/s]Warning: Xing stream size off by more than 1%, fuzzy seeking may be even more fuzzy than by design!\n",
      "  1%|          | 600/66148 [00:24<35:48, 30.51it/s]Warning: Xing stream size off by more than 1%, fuzzy seeking may be even more fuzzy than by design!\n",
      "  1%|          | 605/66148 [00:24<31:36, 34.55it/s]Warning: Xing stream size off by more than 1%, fuzzy seeking may be even more fuzzy than by design!\n",
      "  1%|          | 664/66148 [00:27<41:05, 26.56it/s]Note: Illegal Audio-MPEG-Header 0x00004745 at offset 196776.\n",
      "Note: Trying to resync...\n",
      "Note: Hit end of (available) data during resync.\n",
      "  1%|▏         | 851/66148 [00:34<43:06, 25.25it/s]Warning: Xing stream size off by more than 1%, fuzzy seeking may be even more fuzzy than by design!\n",
      "  1%|▏         | 889/66148 [00:35<43:21, 25.08it/s]Warning: Xing stream size off by more than 1%, fuzzy seeking may be even more fuzzy than by design!\n",
      "  1%|▏         | 908/66148 [00:36<34:59, 31.07it/s]Note: Illegal Audio-MPEG-Header 0x00000000 at offset 428534.\n",
      "Note: Trying to resync...\n",
      "Note: Hit end of (available) data during resync.\n",
      "  2%|▏         | 1001/66148 [00:40<43:42, 24.84it/s]\n"
     ]
    }
   ],
   "source": [
    "for index, row in tqdm(original_df.iterrows(), total=original_df.shape[0]):\n",
    "    if index > 1000:\n",
    "        break\n",
    "\n",
    "    audio_url = row[\"file\"]\n",
    "    original_audio_file_name = row[\"file-name\"]\n",
    "    file_extension = original_audio_file_name.split(\".\")[-1]\n",
    "    new_audio_file_name = f\"{row['id']}.{file_extension}\"\n",
    "    full_audio_file_path = os.path.join(input_audio_dir, new_audio_file_name)\n",
    "\n",
    "    if not os.path.exists(full_audio_file_path):\n",
    "      print(f\"Audio file {new_audio_file_name} not found. Skipping.\")\n",
    "      continue\n",
    "\n",
    "    try:\n",
    "      audio_content, sample_rate = librosa.load(full_audio_file_path, sr=None)\n",
    "      if sample_rate != SAMPLE_RATE:\n",
    "          audio_content = librosa.resample(audio_content, orig_sr=sample_rate, target_sr=SAMPLE_RATE)\n",
    "\n",
    "      # Trim silence from start and end\n",
    "      audio_content, _ = librosa.effects.trim(audio_content, top_db=20)\n",
    "    except Exception as e:\n",
    "      print(f\"Error loading audio file {new_audio_file_name}: {e}. Skipping.\")\n",
    "      continue"
   ]
  }
 ],
 "metadata": {
  "kernelspec": {
   "display_name": "bird-whisperer",
   "language": "python",
   "name": "python3"
  },
  "language_info": {
   "codemirror_mode": {
    "name": "ipython",
    "version": 3
   },
   "file_extension": ".py",
   "mimetype": "text/x-python",
   "name": "python",
   "nbconvert_exporter": "python",
   "pygments_lexer": "ipython3",
   "version": "3.8.20"
  }
 },
 "nbformat": 4,
 "nbformat_minor": 2
}
