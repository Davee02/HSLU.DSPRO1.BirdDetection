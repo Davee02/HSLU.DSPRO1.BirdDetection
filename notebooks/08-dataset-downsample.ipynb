{
 "cells": [
  {
   "cell_type": "code",
   "execution_count": null,
   "metadata": {
    "vscode": {
     "languageId": "plaintext"
    }
   },
   "outputs": [],
   "source": [
    "import pandas as pd"
   ]
  },
  {
   "cell_type": "code",
   "execution_count": null,
   "metadata": {
    "vscode": {
     "languageId": "plaintext"
    }
   },
   "outputs": [],
   "source": [
    "\n",
    "df = pd.read_parquet('../data/processed/bird-whisperer/train.parquet')\n"
   ]
  },
  {
   "cell_type": "markdown",
   "metadata": {},
   "source": [
    "# Only allow classes above 100 non-augmented records"
   ]
  },
  {
   "cell_type": "code",
   "execution_count": null,
   "metadata": {
    "vscode": {
     "languageId": "plaintext"
    }
   },
   "outputs": [],
   "source": [
    "import pandas as pd\n",
    "\n",
    "df_train = pd.read_parquet(\"/exchange/dspro01/HSLU.DSPRO1.BirdDetection/data/processed/bird-whisperer-denoised/train.parquet\")\n",
    "df_test = pd.read_parquet(\"/exchange/dspro01/HSLU.DSPRO1.BirdDetection/data/processed/bird-whisperer-denoised/test.parquet\")\n",
    "\n",
    "species_counts = df_train[df_train['augmented'] == False].groupby('species').size()\n",
    "species_to_keep = species_counts[species_counts >= 100].index\n",
    "\n",
    "filtered_df_train = df_train[df_train['species'].isin(species_to_keep)]\n",
    "filtered_df_test = df_test[df_test['species'].isin(species_to_keep)]\n",
    "\n",
    "print(f\"Filtered Training Dataset Shape: {filtered_df_train.shape}\")\n",
    "print(f\"Filtered Test Dataset Shape: {filtered_df_test.shape}\")\n",
    "\n",
    "filtered_df_train.to_parquet(\"/exchange/dspro01/HSLU.DSPRO1.BirdDetection/data/processed/bird-whisperer-denoised/train_cutoff.parquet\")\n",
    "filtered_df_test.to_parquet(\"/exchange/dspro01/HSLU.DSPRO1.BirdDetection/data/processed/bird-whisperer-denoised/test_cutoff.parquet\")\n"
   ]
  },
  {
   "cell_type": "code",
   "execution_count": null,
   "metadata": {
    "vscode": {
     "languageId": "plaintext"
    }
   },
   "outputs": [],
   "source": []
  }
 ],
 "metadata": {
  "language_info": {
   "name": "python"
  }
 },
 "nbformat": 4,
 "nbformat_minor": 2
}
