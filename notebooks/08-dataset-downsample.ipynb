{
 "cells": [
  {
   "cell_type": "code",
   "execution_count": 2,
   "metadata": {},
   "outputs": [],
   "source": [
    "import pandas as pd"
   ]
  },
  {
   "cell_type": "code",
   "execution_count": 4,
   "metadata": {},
   "outputs": [],
   "source": [
    "df_train = pd.read_parquet(\"../data/processed/bird-whisperer/train.parquet\")\n",
    "df_test = pd.read_parquet(\"../data/processed/bird-whisperer/test.parquet\")"
   ]
  },
  {
   "cell_type": "markdown",
   "metadata": {},
   "source": [
    "# Only allow classes above 100 non-augmented records"
   ]
  },
  {
   "cell_type": "code",
   "execution_count": 5,
   "metadata": {},
   "outputs": [
    {
     "name": "stdout",
     "output_type": "stream",
     "text": [
      "Filtered Training Dataset Shape: (114642, 4)\n",
      "Filtered Test Dataset Shape: (14334, 4)\n"
     ]
    }
   ],
   "source": [
    "species_counts = df_train[df_train['augmented'] == False].groupby('species').size()\n",
    "species_to_keep = species_counts[species_counts >= 100].index\n",
    "\n",
    "filtered_df_train = df_train[df_train['species'].isin(species_to_keep)]\n",
    "filtered_df_test = df_test[df_test['species'].isin(species_to_keep)]\n",
    "\n",
    "print(f\"Filtered Training Dataset Shape: {filtered_df_train.shape}\")\n",
    "print(f\"Filtered Test Dataset Shape: {filtered_df_test.shape}\")\n",
    "\n",
    "filtered_df_train.to_parquet(\"../data/processed/bird-whisperer/train_cutoff.parquet\")\n",
    "filtered_df_test.to_parquet(\"../data/processed/bird-whisperer/test_cutoff.parquet\")"
   ]
  }
 ],
 "metadata": {
  "kernelspec": {
   "display_name": "bird-whisperer",
   "language": "python",
   "name": "python3"
  },
  "language_info": {
   "codemirror_mode": {
    "name": "ipython",
    "version": 3
   },
   "file_extension": ".py",
   "mimetype": "text/x-python",
   "name": "python",
   "nbconvert_exporter": "python",
   "pygments_lexer": "ipython3",
   "version": "3.8.20"
  }
 },
 "nbformat": 4,
 "nbformat_minor": 2
}
