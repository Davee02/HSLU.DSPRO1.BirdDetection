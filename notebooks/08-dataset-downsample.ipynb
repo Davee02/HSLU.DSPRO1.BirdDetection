{
 "cells": [
  {
   "cell_type": "code",
   "execution_count": null,
   "metadata": {
    "vscode": {
     "languageId": "plaintext"
    }
   },
   "outputs": [],
   "source": [
    "import pandas as pd"
   ]
  },
  {
   "cell_type": "code",
   "execution_count": null,
   "metadata": {
    "vscode": {
     "languageId": "plaintext"
    }
   },
   "outputs": [],
   "source": [
    "\n",
    "df = pd.read_parquet('../data/processed/bird-whisperer/train_downsampled.parquet')\n"
   ]
  },
  {
   "cell_type": "markdown",
   "metadata": {},
   "source": [
    "# Remove augmentations"
   ]
  },
  {
   "cell_type": "code",
   "execution_count": null,
   "metadata": {
    "vscode": {
     "languageId": "plaintext"
    }
   },
   "outputs": [],
   "source": [
    "augmented_df = df[df['augmented'] == True]\n",
    "first_augmented = augmented_df.sort_values(by=[\"id\", \"species\"]).groupby(\"id\").first().reset_index()\n",
    "non_augmented_df = df[df['augmented'] == False]\n",
    "result_df = pd.concat([non_augmented_df, first_augmented])\n",
    "result_df.sort_values(by=[\"id\"])\n",
    "result_df.shape"
   ]
  },
  {
   "cell_type": "markdown",
   "metadata": {},
   "source": [
    "# Downsampling"
   ]
  },
  {
   "cell_type": "code",
   "execution_count": null,
   "metadata": {
    "vscode": {
     "languageId": "plaintext"
    }
   },
   "outputs": [],
   "source": [
    "target_count = 200\n",
    "species_counts = result_df['species'].value_counts()\n",
    "majority_species = species_counts[species_counts > target_count].index\n",
    "\n",
    "downsampled_data = []\n",
    "for species in majority_species:\n",
    "    species_data = result_df[result_df['species'] == species]\n",
    "    sampled_data = species_data.sample(n=target_count, random_state=42)  \n",
    "    downsampled_data.append(sampled_data)\n",
    "\n",
    "minority_data = result_df[~result_df['species'].isin(majority_species)]\n",
    "downsampled_data.append(minority_data)\n",
    "final_data = pd.concat(downsampled_data)\n",
    "\n",
    "final_data.shape\n",
    "final_data.to_parquet(\"../data/processed/bird-whisperer/downsampled_train.parquet\", index=False)"
   ]
  },
  {
   "cell_type": "markdown",
   "metadata": {},
   "source": [
    "# Only allow classes above 100 non-augmented records"
   ]
  },
  {
   "cell_type": "code",
   "execution_count": null,
   "metadata": {
    "vscode": {
     "languageId": "plaintext"
    }
   },
   "outputs": [],
   "source": [
    "import pandas as pd\n",
    "\n",
    "df_train = pd.read_parquet(\"/exchange/dspro01/HSLU.DSPRO1.BirdDetection/data/processed/bird-whisperer-denoised/train.parquet\")\n",
    "df_test = pd.read_parquet(\"/exchange/dspro01/HSLU.DSPRO1.BirdDetection/data/processed/bird-whisperer-denoised/test.parquet\")\n",
    "\n",
    "species_counts = df_train[df_train['augmented'] == False].groupby('species').size()\n",
    "species_to_keep = species_counts[species_counts >= 100].index\n",
    "\n",
    "filtered_df_train = df_train[df_train['species'].isin(species_to_keep)]\n",
    "filtered_df_test = df_test[df_test['species'].isin(species_to_keep)]\n",
    "\n",
    "print(f\"Filtered Training Dataset Shape: {filtered_df_train.shape}\")\n",
    "print(f\"Filtered Test Dataset Shape: {filtered_df_test.shape}\")\n",
    "\n",
    "filtered_df_train.to_parquet(\"/exchange/dspro01/HSLU.DSPRO1.BirdDetection/data/processed/bird-whisperer-denoised/train_cutoff.parquet\")\n",
    "filtered_df_test.to_parquet(\"/exchange/dspro01/HSLU.DSPRO1.BirdDetection/data/processed/bird-whisperer-denoised/test_cutoff.parquet\")\n"
   ]
  },
  {
   "cell_type": "code",
   "execution_count": null,
   "metadata": {
    "vscode": {
     "languageId": "plaintext"
    }
   },
   "outputs": [],
   "source": []
  }
 ],
 "metadata": {
  "language_info": {
   "name": "python"
  }
 },
 "nbformat": 4,
 "nbformat_minor": 2
}
